{
 "cells": [
  {
   "cell_type": "code",
   "execution_count": 1,
   "metadata": {},
   "outputs": [],
   "source": [
    "# mise à jour automatique des fonctions importées\n",
    "%load_ext autoreload\n",
    "%autoreload 2"
   ]
  },
  {
   "cell_type": "markdown",
   "metadata": {},
   "source": [
    "# Notebook de création des instants de givrage"
   ]
  },
  {
   "cell_type": "code",
   "execution_count": 2,
   "metadata": {},
   "outputs": [],
   "source": [
    "from pathlib import Path\n",
    "\n",
    "import numpy as np\n",
    "import pandas as pd\n",
    "import matplotlib.pyplot as plt\n",
    "import plotly.express as px\n",
    "\n",
    "from icing_generator import create_icing_time_files"
   ]
  },
  {
   "cell_type": "code",
   "execution_count": 3,
   "metadata": {},
   "outputs": [],
   "source": [
    "instruction_dir_path = (\n",
    "    Path.home()\n",
    "    / \"Documents\"\n",
    "    / \"data\"\n",
    "    / \"Safire_meghatropique\"\n",
    "    / \"flight_instruction_files\"\n",
    "    / \"original\"\n",
    ")\n",
    "\n",
    "icing_condition_dir_path = (\n",
    "    Path.home()\n",
    "    / \"Documents\"\n",
    "    / \"data\"\n",
    "    / \"Safire_meghatropique\"\n",
    "    / \"icing_condition_files\"\n",
    ")\n",
    "\n",
    "# create_icing_time_files(instruction_dir_path, icing_condition_dir_path)"
   ]
  },
  {
   "cell_type": "code",
   "execution_count": 4,
   "metadata": {},
   "outputs": [],
   "source": [
    "no_icing_condition_dir_path = (\n",
    "    Path.home()\n",
    "    / \"Documents\"\n",
    "    / \"data\"\n",
    "    / \"Safire_meghatropique\"\n",
    "    / \"no_icing_condition_files\"\n",
    ")\n",
    "\n",
    "# create_icing_time_files(instruction_dir_path, no_icing_condition_dir_path, nb_icing_events=0)"
   ]
  },
  {
   "cell_type": "code",
   "execution_count": 8,
   "metadata": {},
   "outputs": [],
   "source": [
    "light_icing_condition_dir_path = (\n",
    "    Path.home()\n",
    "    / \"Documents\"\n",
    "    / \"data\"\n",
    "    / \"Safire_meghatropique\"\n",
    "    / \"light_icing_condition_files\"\n",
    ")\n",
    "\n",
    "create_icing_time_files(\n",
    "    instruction_dir_path,\n",
    "    light_icing_condition_dir_path,\n",
    "    nb_icing_events=2,\n",
    "    max_icing=0.5,\n",
    ")"
   ]
  }
 ],
 "metadata": {
  "kernelspec": {
   "display_name": "tf-dassault-env",
   "language": "python",
   "name": "python3"
  },
  "language_info": {
   "codemirror_mode": {
    "name": "ipython",
    "version": 3
   },
   "file_extension": ".py",
   "mimetype": "text/x-python",
   "name": "python",
   "nbconvert_exporter": "python",
   "pygments_lexer": "ipython3",
   "version": "3.10.9"
  }
 },
 "nbformat": 4,
 "nbformat_minor": 2
}
