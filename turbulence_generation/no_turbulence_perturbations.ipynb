{
 "cells": [
  {
   "cell_type": "code",
   "execution_count": null,
   "metadata": {},
   "outputs": [],
   "source": [
    "%load_ext autoreload\n",
    "%autoreload 2"
   ]
  },
  {
   "cell_type": "markdown",
   "metadata": {},
   "source": [
    "# Generation of wind perturbation without any turbulence"
   ]
  },
  {
   "cell_type": "code",
   "execution_count": null,
   "metadata": {},
   "outputs": [],
   "source": [
    "from pathlib import Path\n",
    "\n",
    "import numpy as np\n",
    "import pandas as pd\n",
    "import matplotlib.pyplot as plt\n",
    "import plotly.express as px\n",
    "\n",
    "from turbulence_generator import create_calm_conditions_files"
   ]
  },
  {
   "cell_type": "code",
   "execution_count": null,
   "metadata": {},
   "outputs": [],
   "source": [
    "plane_parameters = {\"b\": 13.16}\n",
    "\n",
    "sampling_frequency = 40 \n",
    "\n",
    "instruction_dir_path = (\n",
    "    Path.home()\n",
    "    / \"Documents\"\n",
    "    / \"data\"\n",
    "    / \"Safire_meghatropique\"\n",
    "    / \"flight_instruction_files\"\n",
    "    / \"original\"\n",
    ")\n",
    "\n",
    "wind_conditions_dir_path = (\n",
    "    Path.home()\n",
    "    / \"Documents\"\n",
    "    / \"data\"\n",
    "    / \"Safire_meghatropique\"\n",
    "    / \"turbulence_files\"\n",
    "    / \"MIL-STD-1797A\"\n",
    "    / \"no_turbulence\"\n",
    "    / f\"{sampling_frequency}Hz\"\n",
    ")\n",
    "\n",
    "create_calm_conditions_files(instruction_dir_path, wind_conditions_dir_path, plane_parameters, sampling_frequency=sampling_frequency)"
   ]
  }
 ],
 "metadata": {
  "kernelspec": {
   "display_name": "flight-sim-env",
   "language": "python",
   "name": "python3"
  },
  "language_info": {
   "codemirror_mode": {
    "name": "ipython",
    "version": 3
   },
   "file_extension": ".py",
   "mimetype": "text/x-python",
   "name": "python",
   "nbconvert_exporter": "python",
   "pygments_lexer": "ipython3",
   "version": "3.11.3"
  }
 },
 "nbformat": 4,
 "nbformat_minor": 2
}
