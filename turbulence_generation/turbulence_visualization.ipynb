{
 "cells": [
  {
   "cell_type": "code",
   "execution_count": 1,
   "metadata": {},
   "outputs": [],
   "source": [
    "from pathlib import Path\n",
    "\n",
    "import numpy as np\n",
    "import pandas as pd\n",
    "import matplotlib.pyplot as plt\n",
    "\n",
    "from turbulence_generator import create_turbulence_df, merge_turbulence_and_noturbulence"
   ]
  },
  {
   "cell_type": "code",
   "execution_count": 41,
   "metadata": {},
   "outputs": [],
   "source": [
    "t_max = 40  # s\n",
    "f = 40  # Hz\n",
    "v = 100  # m/s\n",
    "h = 1000  # m\n",
    "transition_duration = 3\n",
    "turb_start = t_max / 2\n",
    "\n",
    "plane_parameters = {\"b\": 13.16}\n",
    "\n",
    "turb_data = pd.DataFrame(\n",
    "    index=np.around(\n",
    "        np.linspace(\n",
    "            0,\n",
    "            t_max - 1 / f,\n",
    "            t_max * f,\n",
    "        ),\n",
    "        6,\n",
    "    ),  # Rounding to the microsecond to avoid index problems related to rounding\n",
    "    columns=[\"turbulence\", \"u\", \"v\", \"w\", \"p\", \"q\", \"r\"],\n",
    "    data=0.0,\n",
    ")\n",
    "no_turb_data = turb_data.copy(deep=True)\n",
    "\n",
    "no_turb_df = create_turbulence_df(\n",
    "    v,\n",
    "    h,\n",
    "    plane_parameters,\n",
    "    turbulence_start_time=0,\n",
    "    turbulence_duration=int(turb_start+transition_duration),\n",
    "    sampling_frequency=f,\n",
    "    is_turbulence=False,\n",
    ")\n",
    "no_turb_data.update(no_turb_df)\n",
    "turb_df = create_turbulence_df(\n",
    "    v,\n",
    "    h,\n",
    "    plane_parameters,\n",
    "    turbulence_start_time=turb_start,\n",
    "    turbulence_duration=int(t_max-turb_start),\n",
    "    sampling_frequency=f,\n",
    "    is_turbulence=True,\n",
    "    turbulence_level=1\n",
    ")\n",
    "turb_data.update(turb_df)\n",
    "res = merge_turbulence_and_noturbulence(turb_data, no_turb_data, [turb_start], [t_max-turb_start], transition_duration, f, transition_function=\"cosine\")"
   ]
  },
  {
   "cell_type": "code",
   "execution_count": null,
   "metadata": {},
   "outputs": [],
   "source": [
    "fig = plt.figure(figsize=(8,4))\n",
    "ax = fig.add_subplot(111)\n",
    "res_turb = res[res[\"turbulence\"] == 1]\n",
    "res_no_turb = res[res[\"turbulence\"] == 0]\n",
    "ax.plot(res_no_turb.index, res_no_turb[\"w\"], color=\"blue\")\n",
    "ax.plot(res_turb.index, res_turb[\"w\"], color=\"red\")\n",
    "ax.set_xlabel(\"Time [s]\")\n",
    "ax.set_ylabel(\"w [m/s]\")\n",
    "ax.legend([\"No turbulence\", \"Turbulence\"])\n",
    "ax.set_title(\"Example of vertical perturbation\")\n",
    "fig.tight_layout()\n",
    "\n",
    "saving_fp = Path.cwd() / \"turbulence_example_w.pdf\"\n",
    "fig.savefig(saving_fp)\n",
    "plt.show()"
   ]
  }
 ],
 "metadata": {
  "kernelspec": {
   "display_name": "tf-dassault-env",
   "language": "python",
   "name": "python3"
  },
  "language_info": {
   "codemirror_mode": {
    "name": "ipython",
    "version": 3
   },
   "file_extension": ".py",
   "mimetype": "text/x-python",
   "name": "python",
   "nbconvert_exporter": "python",
   "pygments_lexer": "ipython3",
   "version": "3.10.9"
  }
 },
 "nbformat": 4,
 "nbformat_minor": 2
}
